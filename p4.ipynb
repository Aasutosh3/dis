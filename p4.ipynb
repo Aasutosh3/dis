{
  "nbformat": 4,
  "nbformat_minor": 0,
  "metadata": {
    "colab": {
      "name": "Copy of Untitled0.ipynb",
      "provenance": [],
      "include_colab_link": true
    },
    "kernelspec": {
      "name": "python3",
      "display_name": "Python 3"
    }
  },
  "cells": [
    {
      "cell_type": "markdown",
      "metadata": {
        "id": "view-in-github",
        "colab_type": "text"
      },
      "source": [
        "<a href=\"https://colab.research.google.com/github/Aasutosh3/dis/blob/main/p4.ipynb\" target=\"_parent\"><img src=\"https://colab.research.google.com/assets/colab-badge.svg\" alt=\"Open In Colab\"/></a>"
      ]
    },
    {
      "cell_type": "markdown",
      "metadata": {
        "id": "YCJaepmmfKrS"
      },
      "source": [
        "# Project Part # : CPSMA 3133 [Dr. Jacob's](https://github.com/nurfnick) Discrete Mathematics \n",
        "\n",
        "## Project Name Logic and Proofs\n",
        "\n",
        "### Student's Name and ID Aashutosh Shah 219266\n",
        "\n",
        "\n"
      ]
    },
    {
      "cell_type": "code",
      "metadata": {
        "id": "5U5T3Fld5X0S"
      },
      "source": [
        "finishmyproject = True\n",
        "Cleanmycar = False\n",
        "Domylaundry = True"
      ],
      "execution_count": null,
      "outputs": []
    },
    {
      "cell_type": "markdown",
      "source": [
        " use \"NOT\" to find the truth value of $\\lnot(m)$\n"
      ],
      "metadata": {
        "id": "3RaK-yZ0FaE6"
      }
    },
    {
      "cell_type": "code",
      "source": [
        "not(finishmyproject)\n"
      ],
      "metadata": {
        "colab": {
          "base_uri": "https://localhost:8080/"
        },
        "id": "wQtAnUzbGn5a",
        "outputId": "5c3177e8-202e-45d7-e8a6-00efa3da3277"
      },
      "execution_count": null,
      "outputs": [
        {
          "output_type": "execute_result",
          "data": {
            "text/plain": [
              "False"
            ]
          },
          "metadata": {},
          "execution_count": 7
        }
      ]
    },
    {
      "cell_type": "markdown",
      "source": [
        "Lets use \"`AND`\" to find the truth value of \n",
        "$$n \\land o$$\n"
      ],
      "metadata": {
        "id": "-KdGJYRZG__b"
      }
    },
    {
      "cell_type": "code",
      "source": [
        "(Cleanmycar)and(Domylaundry)"
      ],
      "metadata": {
        "colab": {
          "base_uri": "https://localhost:8080/"
        },
        "id": "HHH4jXyFHaft",
        "outputId": "b7d715d1-5308-484b-d05c-9cbd975bbf17"
      },
      "execution_count": null,
      "outputs": [
        {
          "output_type": "execute_result",
          "data": {
            "text/plain": [
              "False"
            ]
          },
          "metadata": {},
          "execution_count": 8
        }
      ]
    },
    {
      "cell_type": "markdown",
      "source": [
        " use \"`OR`\" to find the truth value of \n",
        "\n",
        "1.   List item\n",
        "2.   List item\n",
        "# $$m \\lor n$$"
      ],
      "metadata": {
        "id": "XgkkxwCrHplY"
      }
    },
    {
      "cell_type": "code",
      "source": [
        "(finishmyproject)or(Cleanmycar)\n"
      ],
      "metadata": {
        "colab": {
          "base_uri": "https://localhost:8080/"
        },
        "id": "OrbLbKhnIlNy",
        "outputId": "350652e0-b6e0-4cb9-eea6-ac3f26a190cb"
      },
      "execution_count": null,
      "outputs": [
        {
          "output_type": "execute_result",
          "data": {
            "text/plain": [
              "True"
            ]
          },
          "metadata": {},
          "execution_count": 9
        }
      ]
    },
    {
      "cell_type": "markdown",
      "source": [
        " some equivalent of $finishmyproject$ to $cleanmycar$\n",
        "\n",
        "$$m\\Rightarrow n$$"
      ],
      "metadata": {
        "id": "q67_en-tI9pB"
      }
    },
    {
      "cell_type": "code",
      "source": [
        "def implies(n,m):\n",
        "  return not(n) or (m)\n",
        "implies(Cleanmycar,finishmyproject)"
      ],
      "metadata": {
        "colab": {
          "base_uri": "https://localhost:8080/"
        },
        "id": "f8rsEJTfJUWz",
        "outputId": "3dd69430-eef4-43fe-8a7a-5bd03ac47300"
      },
      "execution_count": null,
      "outputs": [
        {
          "output_type": "execute_result",
          "data": {
            "text/plain": [
              "True"
            ]
          },
          "metadata": {},
          "execution_count": 10
        }
      ]
    },
    {
      "cell_type": "markdown",
      "source": [
        "work for truth table for $not(finshmyproject NOT cleanmycar)equivalent to (cleanmycar OR domylaundry)$"
      ],
      "metadata": {
        "id": "nXJ6HBuEJyK0"
      }
    },
    {
      "cell_type": "markdown",
      "source": [
        "$$\\lnot(m\\oplus n) \\Rightarrow (n\\lor o)$$:"
      ],
      "metadata": {
        "id": "ZohY7R9xKmYv"
      }
    },
    {
      "cell_type": "code",
      "source": [
        "values = [True,False]\n",
        "table = []\n",
        "\n",
        "for o in values:\n",
        "  for n in values:\n",
        "    for m in values: \n",
        "      row =[]\n",
        "      row.append(m)\n",
        "      row.append(n)\n",
        "      row.append(o)\n",
        "      row.append(m ^ n)\n",
        "      row.append(not(m ^ n))\n",
        "      row.append(n or o)\n",
        "      row.append(implies(not(m ^ n),n or o))\n",
        "      table.append(row)\n",
        "print(table)"
      ],
      "metadata": {
        "colab": {
          "base_uri": "https://localhost:8080/"
        },
        "id": "HjnDvA17LMjQ",
        "outputId": "14c40751-48b9-4357-8533-6e59476d240f"
      },
      "execution_count": null,
      "outputs": [
        {
          "output_type": "stream",
          "name": "stdout",
          "text": [
            "[[True, True, True, False, True, True, True], [False, True, True, True, False, True, True], [True, False, True, True, False, True, True], [False, False, True, False, True, True, True], [True, True, False, False, True, True, True], [False, True, False, True, False, True, True], [True, False, False, True, False, False, True], [False, False, False, False, True, False, False]]\n"
          ]
        }
      ]
    },
    {
      "cell_type": "code",
      "source": [
        "import pandas as pd\n",
        "\n",
        "df = pd.DataFrame(table,columns = ['o','n','m','$m\\oplus n$','$\\lnot(m\\oplus n)$','$n\\lor o$','$\\lnot(m\\oplus n) \\Rightarrow (n\\lor o)$'] )\n",
        "df"
      ],
      "metadata": {
        "colab": {
          "base_uri": "https://localhost:8080/",
          "height": 300
        },
        "id": "WHXq45d9Lr4S",
        "outputId": "9e4df1da-921d-4f54-8066-fcfbe8d9c183"
      },
      "execution_count": null,
      "outputs": [
        {
          "output_type": "execute_result",
          "data": {
            "text/html": [
              "<div>\n",
              "<style scoped>\n",
              "    .dataframe tbody tr th:only-of-type {\n",
              "        vertical-align: middle;\n",
              "    }\n",
              "\n",
              "    .dataframe tbody tr th {\n",
              "        vertical-align: top;\n",
              "    }\n",
              "\n",
              "    .dataframe thead th {\n",
              "        text-align: right;\n",
              "    }\n",
              "</style>\n",
              "<table border=\"1\" class=\"dataframe\">\n",
              "  <thead>\n",
              "    <tr style=\"text-align: right;\">\n",
              "      <th></th>\n",
              "      <th>o</th>\n",
              "      <th>n</th>\n",
              "      <th>m</th>\n",
              "      <th>$m\\oplus n$</th>\n",
              "      <th>$\\lnot(m\\oplus n)$</th>\n",
              "      <th>$n\\lor o$</th>\n",
              "      <th>$\\lnot(m\\oplus n) \\Rightarrow (n\\lor o)$</th>\n",
              "    </tr>\n",
              "  </thead>\n",
              "  <tbody>\n",
              "    <tr>\n",
              "      <th>0</th>\n",
              "      <td>True</td>\n",
              "      <td>True</td>\n",
              "      <td>True</td>\n",
              "      <td>False</td>\n",
              "      <td>True</td>\n",
              "      <td>True</td>\n",
              "      <td>True</td>\n",
              "    </tr>\n",
              "    <tr>\n",
              "      <th>1</th>\n",
              "      <td>False</td>\n",
              "      <td>True</td>\n",
              "      <td>True</td>\n",
              "      <td>True</td>\n",
              "      <td>False</td>\n",
              "      <td>True</td>\n",
              "      <td>True</td>\n",
              "    </tr>\n",
              "    <tr>\n",
              "      <th>2</th>\n",
              "      <td>True</td>\n",
              "      <td>False</td>\n",
              "      <td>True</td>\n",
              "      <td>True</td>\n",
              "      <td>False</td>\n",
              "      <td>True</td>\n",
              "      <td>True</td>\n",
              "    </tr>\n",
              "    <tr>\n",
              "      <th>3</th>\n",
              "      <td>False</td>\n",
              "      <td>False</td>\n",
              "      <td>True</td>\n",
              "      <td>False</td>\n",
              "      <td>True</td>\n",
              "      <td>True</td>\n",
              "      <td>True</td>\n",
              "    </tr>\n",
              "    <tr>\n",
              "      <th>4</th>\n",
              "      <td>True</td>\n",
              "      <td>True</td>\n",
              "      <td>False</td>\n",
              "      <td>False</td>\n",
              "      <td>True</td>\n",
              "      <td>True</td>\n",
              "      <td>True</td>\n",
              "    </tr>\n",
              "    <tr>\n",
              "      <th>5</th>\n",
              "      <td>False</td>\n",
              "      <td>True</td>\n",
              "      <td>False</td>\n",
              "      <td>True</td>\n",
              "      <td>False</td>\n",
              "      <td>True</td>\n",
              "      <td>True</td>\n",
              "    </tr>\n",
              "    <tr>\n",
              "      <th>6</th>\n",
              "      <td>True</td>\n",
              "      <td>False</td>\n",
              "      <td>False</td>\n",
              "      <td>True</td>\n",
              "      <td>False</td>\n",
              "      <td>False</td>\n",
              "      <td>True</td>\n",
              "    </tr>\n",
              "    <tr>\n",
              "      <th>7</th>\n",
              "      <td>False</td>\n",
              "      <td>False</td>\n",
              "      <td>False</td>\n",
              "      <td>False</td>\n",
              "      <td>True</td>\n",
              "      <td>False</td>\n",
              "      <td>False</td>\n",
              "    </tr>\n",
              "  </tbody>\n",
              "</table>\n",
              "</div>"
            ],
            "text/plain": [
              "       o      n  ...  $n\\lor o$  $\\lnot(m\\oplus n) \\Rightarrow (n\\lor o)$\n",
              "0   True   True  ...       True                                      True\n",
              "1  False   True  ...       True                                      True\n",
              "2   True  False  ...       True                                      True\n",
              "3  False  False  ...       True                                      True\n",
              "4   True   True  ...       True                                      True\n",
              "5  False   True  ...       True                                      True\n",
              "6   True  False  ...      False                                      True\n",
              "7  False  False  ...      False                                     False\n",
              "\n",
              "[8 rows x 7 columns]"
            ]
          },
          "metadata": {},
          "execution_count": 12
        }
      ]
    },
    {
      "cell_type": "markdown",
      "source": [
        "\n",
        "\n",
        "```\n",
        "# This is formatted as code\n",
        "```\n",
        "\n",
        "##Proof"
      ],
      "metadata": {
        "id": "GXtu20QGMKVb"
      }
    },
    {
      "cell_type": "markdown",
      "source": [
        "lets use this equation.\n",
        "$$y=2x+5$$\n"
      ],
      "metadata": {
        "id": "HxGjRFHyMUFT"
      }
    },
    {
      "cell_type": "markdown",
      "source": [
        "given equation have y intercept\n",
        "\n",
        "$(0,5)$\n",
        "\n"
      ],
      "metadata": {
        "id": "ttIYvNelMhmA"
      }
    },
    {
      "cell_type": "markdown",
      "source": [
        " I will plot given equation in graph using plt.plot"
      ],
      "metadata": {
        "id": "0OoX93ceMp4A"
      }
    },
    {
      "cell_type": "code",
      "source": [
        "import matplotlib.pyplot as plt\n",
        "import numpy as np\n",
        "plt.plot(x,2*x+5)\n",
        "plt.scatter(0,5, c='red',s = 40)\n",
        "plt.scatter(10,0,c='red',s = 40)\n",
        "plt.show()"
      ],
      "metadata": {
        "id": "1_4qqS1rQISv"
      },
      "execution_count": null,
      "outputs": []
    },
    {
      "cell_type": "markdown",
      "source": [
        " checking of (0,5) is the y-intercept of given equation $$y=2x+5$$"
      ],
      "metadata": {
        "id": "LVF1IDZqQmlN"
      }
    },
    {
      "cell_type": "markdown",
      "source": [
        "Using python check"
      ],
      "metadata": {
        "id": "2iWhzV7MQyEF"
      }
    },
    {
      "cell_type": "code",
      "source": [
        "5==2*0+5"
      ],
      "metadata": {
        "colab": {
          "base_uri": "https://localhost:8080/"
        },
        "id": "VVlcU_YDKU_s",
        "outputId": "5dbcf2de-699a-4109-e2fe-8174fa678dbc"
      },
      "execution_count": null,
      "outputs": [
        {
          "output_type": "execute_result",
          "data": {
            "text/plain": [
              "True"
            ]
          },
          "metadata": {},
          "execution_count": 27
        }
      ]
    },
    {
      "cell_type": "markdown",
      "source": [
        "[link text](https://) got true value "
      ],
      "metadata": {
        "id": "6IjUmOu2ROd_"
      }
    },
    {
      "cell_type": "markdown",
      "source": [
        "# Lets try again by putting value of (5,15) in equation $$y=2x+5$$\n"
      ],
      "metadata": {
        "id": "hdKiwJceRSuf"
      }
    },
    {
      "cell_type": "code",
      "source": [
        "15==2*5+5\n"
      ],
      "metadata": {
        "colab": {
          "base_uri": "https://localhost:8080/"
        },
        "id": "ZOkyEdCDRudn",
        "outputId": "c660ded0-69e6-4854-e150-f1a060277fb3"
      },
      "execution_count": null,
      "outputs": [
        {
          "output_type": "execute_result",
          "data": {
            "text/plain": [
              "True"
            ]
          },
          "metadata": {},
          "execution_count": 26
        }
      ]
    },
    {
      "cell_type": "markdown",
      "source": [
        " Both value are true so (0,5) is the y intercept of given equation $$y=2x+5$$"
      ],
      "metadata": {
        "id": "cqrIpb7xSSvX"
      }
    },
    {
      "cell_type": "markdown",
      "source": [
        "using the contradction,\n",
        "\n",
        "while we compare given equation $$y=2x+5$$ which have (0,5) as a y-intercept\n",
        "\n",
        "with this equatuin $$y=mx=b$$\n",
        "\n",
        "will going to have y- intercept of (0,b)\n"
      ],
      "metadata": {
        "id": "y865fd3lSdgu"
      }
    },
    {
      "cell_type": "code",
      "source": [
        ""
      ],
      "metadata": {
        "id": "jP6yegGKMLfL"
      },
      "execution_count": null,
      "outputs": []
    }
  ]
}